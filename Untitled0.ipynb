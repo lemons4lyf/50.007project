{
  "nbformat": 4,
  "nbformat_minor": 0,
  "metadata": {
    "colab": {
      "provenance": [],
      "authorship_tag": "ABX9TyMAcomtED4JUQy0/DHtH9Ec",
      "include_colab_link": true
    },
    "kernelspec": {
      "name": "python3",
      "display_name": "Python 3"
    },
    "language_info": {
      "name": "python"
    }
  },
  "cells": [
    {
      "cell_type": "markdown",
      "metadata": {
        "id": "view-in-github",
        "colab_type": "text"
      },
      "source": [
        "<a href=\"https://colab.research.google.com/github/lemons4lyf/50.007project/blob/main/Untitled0.ipynb\" target=\"_parent\"><img src=\"https://colab.research.google.com/assets/colab-badge.svg\" alt=\"Open In Colab\"/></a>"
      ]
    },
    {
      "cell_type": "code",
      "execution_count": null,
      "metadata": {
        "id": "Ge2MoGEuBY5c"
      },
      "outputs": [],
      "source": [
        "def prcoess_stopwords(filepath): #Process stopwords into a list\n",
        "  wordlist = []\n",
        "  with open(filepath, 'r', encoding='utf-8') as file:\n",
        "    for line in file:\n",
        "      current = line.strip().split(\" \")\n",
        "      wordlist.append(current)\n",
        "\n",
        "  return wordlist\n",
        "\n",
        "#print(prcoess_stopwords('/content/drive/MyDrive/Data/stopwords-ru.txt'))\n",
        "\n",
        "def process_train_data(token_seq,tag_seq,wordlist):  #Removes stopwords from tag and token lists\n",
        "  for i in token_seq:\n",
        "    if i in wordlist:\n",
        "      token_seq.pop(i)\n",
        "      tag_seq.pop(i)\n",
        "  return token_seq , tag_seq\n",
        "#print(process_train_data(ru_token_seq,ru_tag_seq,prcoess_stopwords('/content/drive/MyDrive/Data/stopwords-ru.txt')))\n",
        "\n",
        "ru_token_seq , ru_taq_seq = prcoess_train_data(ru_token_seq,ru_tag_seq,process_stopwords(\"RU/topwords-ru.txt\"))\n",
        "es_token_seq , es_token_seq = prcoess_train_data(ru_token_seq,ru_tag_seq,process_stopwords(\"ES/topwords-ru.txt\"))\n"
      ]
    }
  ]
}